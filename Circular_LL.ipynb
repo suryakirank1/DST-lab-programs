{
  "nbformat": 4,
  "nbformat_minor": 0,
  "metadata": {
    "colab": {
      "provenance": []
    },
    "kernelspec": {
      "name": "python3",
      "display_name": "Python 3"
    },
    "language_info": {
      "name": "python"
    }
  },
  "cells": [
    {
      "cell_type": "code",
      "execution_count": null,
      "metadata": {
        "colab": {
          "base_uri": "https://localhost:8080/"
        },
        "id": "ztLPuz51ZOw4",
        "outputId": "5e014a51-7eb8-48ae-d3b9-921c7a3691db"
      },
      "outputs": [
        {
          "output_type": "stream",
          "name": "stdout",
          "text": [
            "List Before Deletion: \n",
            "10 8 7 5 2 \n",
            "List After Deletion: \n",
            "10 8 5 2 \n"
          ]
        }
      ],
      "source": [
        "# Python program to delete a given key from  the given linked list\n",
        "class Node:\n",
        "\tdef __init__(self, data):\n",
        "\t\tself.data = data\n",
        "\t\tself.next = None\n",
        "\n",
        "\n",
        "\n",
        "def push(head, data):\n",
        "\n",
        "\tnewP = Node(data)\n",
        "\tnewP.next = head\n",
        "\n",
        "\n",
        "\tif head != None:\n",
        "\n",
        "\t\ttemp = head\n",
        "\t\twhile (temp.next != head):\n",
        "\t\t\ttemp = temp.next\n",
        "\t\ttemp.next = newP\n",
        "\telse:\n",
        "\t\tnewP.next = newP\n",
        "\thead = newP\n",
        "\treturn head\n",
        "\n",
        "\n",
        "\n",
        "\n",
        "def printList(head):\n",
        "\tif head == None:\n",
        "\t\tprint(\"List is Empty\")\n",
        "\t\treturn\n",
        "\ttemp = head.next\n",
        "\tprint(head.data, end=' ')\n",
        "\tif (head != None):\n",
        "\t\twhile (temp != head):\n",
        "\t\t\tprint(temp.data, end=\" \")\n",
        "\t\t\ttemp = temp.next\n",
        "\tprint()\n",
        "\n",
        "\n",
        "\n",
        "def deleteNode(head, key):\n",
        "\n",
        "\tif (head == None):\n",
        "\t\treturn\n",
        "\tif (head.data == key and head.next == head):\n",
        "\t\thead = None\n",
        "\t\treturn\n",
        "\n",
        "\tlast = head\n",
        "\n",
        "\tif (head.data == key):\n",
        "\n",
        "\t\twhile (last.next != head):\n",
        "\t\t\tlast = last.next\n",
        "\n",
        "\t\tlast.next = head.next\n",
        "\t\thead = last.next\n",
        "\t\treturn\n",
        "\twhile (last.next != head and last.next.data != key):\n",
        "\t\tlast = last.next\n",
        "\n",
        "\tif (last.next.data == key):\n",
        "\t\td = last.next\n",
        "\t\tlast.next = d.next\n",
        "\t\td = None\n",
        "\telse:\n",
        "\t\tprint(\"Given node is not found in the list!!!\")\n",
        "\n",
        "\n",
        "head = None\n",
        "\n",
        "head = push(head, 2)\n",
        "head = push(head, 5)\n",
        "head = push(head, 7)\n",
        "head = push(head, 8)\n",
        "head = push(head, 10)\n",
        "\n",
        "print(\"List Before Deletion: \")\n",
        "printList(head)\n",
        "\n",
        "deleteNode(head, 7)\n",
        "print(\"List After Deletion: \")\n",
        "printList(head)\n"
      ]
    }
  ]
}