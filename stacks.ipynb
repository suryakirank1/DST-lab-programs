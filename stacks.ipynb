{
  "nbformat": 4,
  "nbformat_minor": 0,
  "metadata": {
    "colab": {
      "provenance": []
    },
    "kernelspec": {
      "name": "python3",
      "display_name": "Python 3"
    },
    "language_info": {
      "name": "python"
    }
  },
  "cells": [
    {
      "cell_type": "code",
      "execution_count": null,
      "metadata": {
        "colab": {
          "base_uri": "https://localhost:8080/"
        },
        "id": "oLBLJGIXpMvR",
        "outputId": "7bab67ea-bd51-4667-98ac-7c8a96710ce2"
      },
      "outputs": [
        {
          "output_type": "execute_result",
          "data": {
            "text/plain": [
              "10"
            ]
          },
          "metadata": {},
          "execution_count": 19
        }
      ],
      "source": [
        "stack=[]\n",
        "stack.append(10)\n",
        "stack.append(20)\n",
        "stack.append(30)\n",
        "stack\n",
        "stack.pop()\n",
        "stack.pop()\n",
        "stack.pop()\n"
      ]
    },
    {
      "cell_type": "code",
      "source": [
        "#choose the option that will alter stacks\n",
        "stack=[]\n",
        "def push():\n",
        "  element=int(input(\"Enter the element:\"))\n",
        "  stack.append(element)\n",
        "  print(stack)\n",
        "def pop_element():\n",
        "  if not stack:\n",
        "    print(\"stack is empty!\")\n",
        "  else:\n",
        "    e=stack.pop()\n",
        "    print(\"removed element is:\",e)\n",
        "    print(stack)\n",
        "while True:\n",
        "  print(\"Select the operation 1.push 2.pop 3.quit\")\n",
        "  choice=int(input())\n",
        "  if choice==1:\n",
        "    push()\n",
        "  elif choice==2:\n",
        "    pop_element()\n",
        "  elif  choice==3:\n",
        "    break\n",
        "  else:\n",
        "    print(\"Enter a valid operator!\")"
      ],
      "metadata": {
        "colab": {
          "base_uri": "https://localhost:8080/"
        },
        "id": "BPau5iSPs68y",
        "outputId": "25d66480-d793-4121-ece7-722c44225558"
      },
      "execution_count": null,
      "outputs": [
        {
          "output_type": "stream",
          "name": "stdout",
          "text": [
            "Select the operation 1.push 2.pop 3.quit\n"
          ]
        }
      ]
    },
    {
      "cell_type": "code",
      "source": [],
      "metadata": {
        "id": "mRxImPf_qycI"
      },
      "execution_count": null,
      "outputs": []
    }
  ]
}