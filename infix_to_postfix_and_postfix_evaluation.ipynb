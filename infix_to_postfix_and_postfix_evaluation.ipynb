{
  "nbformat": 4,
  "nbformat_minor": 0,
  "metadata": {
    "colab": {
      "provenance": []
    },
    "kernelspec": {
      "name": "python3",
      "display_name": "Python 3"
    },
    "language_info": {
      "name": "python"
    }
  },
  "cells": [
    {
      "cell_type": "code",
      "execution_count": 3,
      "metadata": {
        "colab": {
          "base_uri": "https://localhost:8080/"
        },
        "id": "jQS0Wluwt8N-",
        "outputId": "8cba9e70-38a3-4beb-9457-1ef9b8dc593b"
      },
      "outputs": [
        {
          "output_type": "stream",
          "name": "stdout",
          "text": [
            "Infix Expression: (c+d)/b+a\n",
            "Postfix Expression: cd+b/a+\n"
          ]
        }
      ],
      "source": [
        "def precedence(operator):\n",
        "    if operator == '+' or operator == '-':\n",
        "        return 1\n",
        "    elif operator == '*' or operator == '/':\n",
        "        return 2\n",
        "    else:\n",
        "        return 0\n",
        "def is_operator(char):\n",
        "    return char in {'+', '-', '*', '/'}\n",
        "def infix_to_postfix(infix_expression):\n",
        "    stack = []\n",
        "    postfix_expression = []\n",
        "\n",
        "    for char in infix_expression:\n",
        "        if char.isalnum():\n",
        "\n",
        "            postfix_expression.append(char)\n",
        "        elif char == '(':\n",
        "\n",
        "            stack.append(char)\n",
        "        elif char == ')':\n",
        "\n",
        "            while stack and stack[-1] != '(':\n",
        "                postfix_expression.append(stack.pop())\n",
        "            stack.pop()\n",
        "        elif is_operator(char):\n",
        "\n",
        "            while stack and precedence(stack[-1]) >= precedence(char):\n",
        "                postfix_expression.append(stack.pop())\n",
        "            stack.append(char)\n",
        "\n",
        "\n",
        "    while stack:\n",
        "        postfix_expression.append(stack.pop())\n",
        "\n",
        "    return ''.join(postfix_expression)\n",
        "\n",
        "\n",
        "infix_expression = \"(c+d)/b+a\"\n",
        "postfix_expression = infix_to_postfix(infix_expression)\n",
        "print(\"Infix Expression:\", infix_expression)\n",
        "print(\"Postfix Expression:\", postfix_expression)"
      ]
    },
    {
      "cell_type": "code",
      "source": [
        "def is_operand(char):\n",
        "    return char.isalnum()\n",
        "\n",
        "def evaluate_postfix(postfix_expression):\n",
        "    stack = []\n",
        "\n",
        "    for char in postfix_expression:\n",
        "        if is_operand(char):\n",
        "\n",
        "            stack.append(float(char))\n",
        "        else:\n",
        "\n",
        "            operand2 = stack.pop()\n",
        "            operand1 = stack.pop()\n",
        "\n",
        "            if char == '+':\n",
        "                result = operand1 + operand2\n",
        "            elif char == '-':\n",
        "                result = operand1 - operand2\n",
        "            elif char == '*':\n",
        "                result = operand1 * operand2\n",
        "            elif char == '/':\n",
        "                result = operand1 / operand2\n",
        "\n",
        "            stack.append(result)\n",
        "\n",
        "\n",
        "    return stack.pop()\n",
        "\n",
        "\n",
        "postfix_expression = \"468/45+\"\n",
        "result = evaluate_postfix(postfix_expression)\n",
        "print(\"Postfix Expression:\", postfix_expression)\n",
        "print(\"Result:\", result)\n"
      ],
      "metadata": {
        "colab": {
          "base_uri": "https://localhost:8080/"
        },
        "id": "u2LFJn2ruAyX",
        "outputId": "af029db6-0b26-49b1-bf10-2e5da1368ea2"
      },
      "execution_count": 2,
      "outputs": [
        {
          "output_type": "stream",
          "name": "stdout",
          "text": [
            "Postfix Expression: 468/45+\n",
            "Result: 9.0\n"
          ]
        }
      ]
    }
  ]
}