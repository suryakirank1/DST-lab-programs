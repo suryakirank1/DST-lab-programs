{
  "nbformat": 4,
  "nbformat_minor": 0,
  "metadata": {
    "colab": {
      "provenance": []
    },
    "kernelspec": {
      "name": "python3",
      "display_name": "Python 3"
    },
    "language_info": {
      "name": "python"
    }
  },
  "cells": [
    {
      "cell_type": "code",
      "execution_count": null,
      "metadata": {
        "colab": {
          "base_uri": "https://localhost:8080/"
        },
        "id": "I4LWExVlsBk4",
        "outputId": "f39bcc89-0d2f-47b3-c034-f66e79ac662c"
      },
      "outputs": [
        {
          "output_type": "stream",
          "name": "stdout",
          "text": [
            "13\n"
          ]
        }
      ],
      "source": [
        "#delete the initial node in the linked list\n",
        "class Node:\n",
        "  def __init__(self,data):\n",
        "    self.data=data\n",
        "    self.ref=None\n",
        "class LinkedList:\n",
        "  def __init__(self):\n",
        "    self.head=None\n",
        "  def printLL(self):\n",
        "    if self.head is None:\n",
        "      print('the linked list is empty')\n",
        "    n=self.head\n",
        "    while n is not None:\n",
        "      print(n.data)\n",
        "      n=n.ref\n",
        "  def add_end(self,data):\n",
        "    new_node=Node(data)\n",
        "    if self.head is  None:\n",
        "      self.head=new_node\n",
        "    else:\n",
        "      n=self.head\n",
        "      while n.ref is  not None:\n",
        "        n=n.ref\n",
        "      n.ref=new_node\n",
        "  def  del_begin(self):\n",
        "    if self.head is None:\n",
        "      print(\"there are no elements to delete!!\")\n",
        "    else:\n",
        "      if self.head is not  None:\n",
        "        self.head=self.head.ref\n",
        "\n",
        "PP1=LinkedList()\n",
        "PP1.add_end(12)\n",
        "PP1.add_end(13)\n",
        "PP1.del_begin()\n",
        "PP1.printLL()"
      ]
    }
  ]
}